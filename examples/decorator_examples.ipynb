{
 "cells": [
  {
   "cell_type": "code",
   "execution_count": 2,
   "metadata": {},
   "outputs": [],
   "source": [
    "from miniai import ai\n",
    "\n",
    "# Set your API key using the helper function\n",
    "# ai.set_api_key(\"openai\", \"your-api-key-here\")\n",
    "\n",
    "# Or set it using environment variables\n",
    "# os.environ[\"OPENAI_API_KEY\"] = \"your-api-key-here\""
   ]
  },
  {
   "cell_type": "code",
   "execution_count": 3,
   "metadata": {},
   "outputs": [
    {
     "name": "stdout",
     "output_type": "stream",
     "text": [
      "Poem: Upon the boughs which summer once adorned,  \n",
      "Now hangs a tapestry of golden hue,  \n",
      "Where autumn's breath, with gentle grace, has dawned,  \n",
      "And draped the earth in robes of th' year anew.  \n",
      "\n",
      "Lo, see the leaves their vibrant dance begin,  \n",
      "In whispered swirls they free themselves to flight.  \n",
      "The zephyrs guide them softly, where they spin,  \n",
      "As sunlight weaves through branches, warm and bright.  \n",
      "\n",
      "Rich russet, amber, crimson shades delight,  \n",
      "In splendor 'neath the waning daylight's reign.  \n",
      "A fleeting crown, they glimmer in their plight,  \n",
      "To weave a carpet o'er the dying plain.  \n",
      "\n",
      "Yet 'tis their fate, this brief, resplendent show,  \n",
      "To teach that beauty lies in letting go.  \n"
     ]
    }
   ],
   "source": [
    "# Convert any function into an AI function\n",
    "@ai.function\n",
    "def generate_poem(topic, style):\n",
    "    \"\"\"Generate a poem about {topic} in the style of {style}.\"\"\"\n",
    "\n",
    "poem = generate_poem(\"autumn leaves\", \"Shakespeare\")\n",
    "print(f\"Poem: {poem}\")"
   ]
  },
  {
   "cell_type": "code",
   "execution_count": 4,
   "metadata": {},
   "outputs": [
    {
     "name": "stdout",
     "output_type": "stream",
     "text": [
      "Ad: 🌿 Drive the Future with EcoVibe Electric! 🌿\n",
      "\n",
      "Dear Environmentally Conscious Families,\n",
      "\n",
      "Imagine a world where every journey contributes to a cleaner planet. With EcoVibe Electric, that world is just a drive away! Our state-of-the-art electric vehicles blend cutting-edge technology with unparalleled eco-friendliness, making them the perfect choice for families committed to sustainability.\n",
      "\n",
      "🔋 **Key Features:**\n",
      "- **Zero Emissions:** Safeguard the planet for your children’s future.\n",
      "- **Long Range:** Travel up to 300 miles on a single charge—perfect for family adventures!\n",
      "- **Spacious Comfort:** Roomy interiors designed for growing families and all their gear.\n",
      "- **Safety First:** Advanced safety features to protect what matters most.\n",
      "\n",
      "Join the revolution and empower your family to make a real difference. With EcoVibe, you’re not just buying a car; you’re investing in a healthier, greener world for your family.\n",
      "\n",
      "🌲 **Test Drive Today and Save the Planet for Tomorrow!**\n",
      "\n",
      "EcoVibe Electric - Drive Change, Drive Green. 🌿\n",
      "\n",
      "Visit us at EcoVibe.com or call 1-800-ECO-DRIVE to learn more!\n"
     ]
    }
   ],
   "source": [
    "# With system prompt\n",
    "@ai.function(system_prompt=\"You are a professional copywriter.\")\n",
    "def write_ad(product, audience):\n",
    "    \"\"\"Write a short compelling advertisement for {product} targeting {audience}.\"\"\"\n",
    "\n",
    "ad = write_ad(\"electric car\", \"environmentally conscious families\")\n",
    "print(f\"Ad: {ad}\")"
   ]
  },
  {
   "cell_type": "code",
   "execution_count": null,
   "metadata": {},
   "outputs": [],
   "source": []
  }
 ],
 "metadata": {
  "kernelspec": {
   "display_name": "myenv",
   "language": "python",
   "name": "python3"
  },
  "language_info": {
   "codemirror_mode": {
    "name": "ipython",
    "version": 3
   },
   "file_extension": ".py",
   "mimetype": "text/x-python",
   "name": "python",
   "nbconvert_exporter": "python",
   "pygments_lexer": "ipython3",
   "version": "3.9.13"
  }
 },
 "nbformat": 4,
 "nbformat_minor": 2
}
