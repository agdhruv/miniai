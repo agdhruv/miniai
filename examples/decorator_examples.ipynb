{
 "cells": [
  {
   "cell_type": "code",
   "execution_count": 1,
   "metadata": {},
   "outputs": [],
   "source": [
    "from miniai import ai\n",
    "\n",
    "# Set your API key using using environment variables\n",
    "# os.environ[\"OPENAI_API_KEY\"] = \"your-api-key-here\"\n",
    "\n",
    "# Or do it programmatically using the helper function\n",
    "# ai.set_api_key(\"openai\", \"your-api-key-here\")"
   ]
  },
  {
   "cell_type": "markdown",
   "metadata": {},
   "source": [
    "# Simple Example"
   ]
  },
  {
   "cell_type": "code",
   "execution_count": 5,
   "metadata": {},
   "outputs": [],
   "source": [
    "# Convert any function into an AI function\n",
    "# Same capabilities as ai.ask(), but neater code\n",
    "@ai.function\n",
    "def generate_poem(topic, style):\n",
    "    \"\"\"Generate a poem about {topic} in the style of {style}.\"\"\""
   ]
  },
  {
   "cell_type": "code",
   "execution_count": 4,
   "metadata": {},
   "outputs": [
    {
     "name": "stdout",
     "output_type": "stream",
     "text": [
      "Crimson whispers fall,  \n",
      "Dancing through crisp, chill-kissed air—  \n",
      "Earth's quilt softly laid. \n",
      "\n",
      "\n",
      "In the park, the leaves fall down,  \n",
      "Spinning softly, without a sound.  \n",
      "Red and yellow, orange and gold,  \n",
      "Tales of autumn they unfold.  \n",
      "\n",
      "Whirling, twirling, in the breeze,  \n",
      "Dancing down from all the trees.  \n",
      "Gentle carpets on the ground,  \n",
      "Nature's magic all around.  \n",
      "\n",
      "Squirrels scamper, collecting treats,  \n",
      "Crunchy leaves beneath small feet.  \n",
      "Pumpkins smile with a friendly glow,  \n",
      "As crisp winds begin to blow.  \n",
      "\n",
      "The world is warm in autumn's hues,  \n",
      "A cozy time, with lovely views.  \n",
      "So join the leaves in joyful play,  \n",
      "And cherish every fall-filled day!  \n"
     ]
    }
   ],
   "source": [
    "# Later in your code, call the function as you would any other function\n",
    "user_input = \"autumn leaves\"\n",
    "style = \"haiku\"\n",
    "poem = generate_poem(user_input, style)\n",
    "print(poem, \"\\n\\n\")\n",
    "\n",
    "another_style = \"nursery rhyme\"\n",
    "poem = generate_poem(user_input, another_style)\n",
    "print(poem)"
   ]
  },
  {
   "cell_type": "markdown",
   "metadata": {},
   "source": [
    "# Example with more control"
   ]
  },
  {
   "cell_type": "code",
   "execution_count": 8,
   "metadata": {},
   "outputs": [],
   "source": [
    "# You can pass any arguments to the decorator\n",
    "@ai.function(model=\"gpt-4o-mini\", system_prompt=\"\"\"\n",
    "You are a senior Python developer conducting code reviews.\n",
    "Focus on:\n",
    "1. Performance issues\n",
    "2. Security vulnerabilities \n",
    "3. Pythonic patterns\n",
    "4. Type safety\n",
    "Be concise and specific. Format each issue as '- Issue: <description>'\n",
    "\"\"\")\n",
    "def review_code(code: str, context: str = \"\"):\n",
    "    \"\"\"\n",
    "    Review this Python code for best practices and potential issues:\n",
    "    \n",
    "    Context: {context}\n",
    "    \n",
    "    Code:\n",
    "    {code}\n",
    "    \"\"\""
   ]
  },
  {
   "cell_type": "code",
   "execution_count": 10,
   "metadata": {},
   "outputs": [
    {
     "name": "stdout",
     "output_type": "stream",
     "text": [
      "- Issue: **Performance issues**: Using `range(len(items))` is inefficient; consider iterating directly over `items` instead to avoid indexing overhead and improve readability.\n",
      "\n",
      "- Issue: **Pythonic patterns**: The use of a for loop with `append` can be replaced with a list comprehension for better readability and conciseness: `result = [item.strip().lower() for item in items]`.\n",
      "\n",
      "- Issue: **Type safety**: The function does not enforce type checking on the input `items`. Consider adding type hints (e.g., `def process_data(items: list[str]) -> list[str]:`) and validating the type of `items` to ensure it contains strings.\n",
      "\n",
      "- Issue: **Security vulnerabilities**: If any item in the input list is not a string, the `.strip()` and `.lower()` methods will raise an exception. Implement input validation to handle or filter non-string items gracefully.\n"
     ]
    }
   ],
   "source": [
    "code = \"\"\"\n",
    "def process_data(items):\n",
    "    result = []\n",
    "    for i in range(len(items)):\n",
    "        result.append(items[i].strip().lower())\n",
    "    return result\n",
    "\"\"\"\n",
    "\n",
    "review = review_code(code, context=\"Used in data preprocessing pipeline\")\n",
    "print(review)"
   ]
  },
  {
   "cell_type": "code",
   "execution_count": null,
   "metadata": {},
   "outputs": [],
   "source": []
  }
 ],
 "metadata": {
  "kernelspec": {
   "display_name": "myenv",
   "language": "python",
   "name": "python3"
  },
  "language_info": {
   "codemirror_mode": {
    "name": "ipython",
    "version": 3
   },
   "file_extension": ".py",
   "mimetype": "text/x-python",
   "name": "python",
   "nbconvert_exporter": "python",
   "pygments_lexer": "ipython3",
   "version": "3.9.13"
  }
 },
 "nbformat": 4,
 "nbformat_minor": 2
}
