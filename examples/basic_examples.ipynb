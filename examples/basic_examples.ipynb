{
  "cells": [
    {
      "cell_type": "code",
      "execution_count": 1,
      "metadata": {},
      "outputs": [],
      "source": [
        "from miniai import ai"
      ]
    },
    {
      "cell_type": "markdown",
      "metadata": {},
      "source": [
        "# Simple API"
      ]
    },
    {
      "cell_type": "code",
      "execution_count": 2,
      "metadata": {},
      "outputs": [
        {
          "name": "stdout",
          "output_type": "stream",
          "text": [
            "Haiku: Lines of code unfold,  \n",
            "Silent logic softly hums—  \n",
            "Creation begins.\n",
            "\n",
            "Description: The image is a promotional graphic for \"MiniAI,\" a minimalist Python library for AI tasks. It includes a logo of a robot face and text describing the library as simple and effective, emphasizing no complex chains or confusing abstractions.\n"
          ]
        }
      ],
      "source": [
        "# Ask a question\n",
        "result = ai.ask(\"Write a haiku about programming\")\n",
        "print(f\"Haiku: {result}\\n\")\n",
        "\n",
        "# Ask a question with an image (can be a local file or a URL)\n",
        "result = ai.ask(\"What's in this image?\", images=[\"test_image.png\"])\n",
        "print(f\"Description: {result}\")"
      ]
    },
    {
      "cell_type": "markdown",
      "metadata": {},
      "source": [
        "# Flexible and Intuitive"
      ]
    },
    {
      "cell_type": "code",
      "execution_count": 2,
      "metadata": {},
      "outputs": [
        {
          "name": "stdout",
          "output_type": "stream",
          "text": [
            "Answer: HOLA! The capital of France is Paris.\n",
            "\n",
            "Answer: The first moon landing occurred on July 20, 1969, during NASA's Apollo 11 mission.\n",
            "\n",
            "Answer: I'm Claude, an AI created by Anthropic. I aim to be helpful, honest, and harmless. I won't pretend to be human, and I'm always direct about being an AI.\n",
            "\n",
            "Answer: Constitutional AI is an approach to developing artificial intelligence systems that are aligned with specific ethical principles and values, often articulated in the form of a \"constitution.\" This concept aims to create AI that behaves in ways that are consistent with human values and ethical guidelines, ensuring that its actions and decisions are beneficial and do not cause harm.\n",
            "\n",
            "The idea is to encode a set of rules or guidelines that the AI system must follow, much like how a constitution provides a foundational framework for governance in a country. These\n",
            "\n"
          ]
        }
      ],
      "source": [
        "# Ask with a system prompt\n",
        "result = ai.ask(\"What is the capital of France?\", system_prompt=\"Say HOLA! before answering\")\n",
        "print(f\"Answer: {result}\\n\")\n",
        "\n",
        "# Ask with a different model than the default\n",
        "result = ai.ask(\"In what year did the first moon landing occur?\", model=\"gpt-4o-mini\")\n",
        "print(f\"Answer: {result}\\n\")\n",
        "\n",
        "# Ask with a different provider than the default\n",
        "result = ai.ask(\"Who are you?\", provider=\"anthropic\")\n",
        "print(f\"Answer: {result}\\n\")\n",
        "\n",
        "# Pass any other parameters to the LLM, e.g. temperature and max tokens\n",
        "result = ai.ask(\"What is constitutional AI?\", temperature=0.5, max_tokens=100)\n",
        "print(f\"Answer: {result}\\n\")"
      ]
    },
    {
      "cell_type": "code",
      "execution_count": 4,
      "metadata": {},
      "outputs": [
        {
          "name": "stdout",
          "output_type": "stream",
          "text": [
            "Processed response:\n",
            "The capital of France is Paris. \n",
            "\n",
            "Raw response:\n",
            "ChatCompletion(id='chatcmpl-BHPpXQlYtR8XHVGEZkwyZ5BrNj2RX', choices=[Choice(finish_reason='stop', index=0, logprobs=None, message=ChatCompletionMessage(content='The capital of France is Paris.', refusal=None, role='assistant', annotations=[], audio=None, function_call=None, tool_calls=None))], created=1743490567, model='gpt-4o-2024-08-06', object='chat.completion', service_tier='default', system_fingerprint='fp_de57b65c90', usage=CompletionUsage(completion_tokens=8, prompt_tokens=14, total_tokens=22, completion_tokens_details=CompletionTokensDetails(accepted_prediction_tokens=0, audio_tokens=0, reasoning_tokens=0, rejected_prediction_tokens=0), prompt_tokens_details=PromptTokensDetails(audio_tokens=0, cached_tokens=0)))\n"
          ]
        }
      ],
      "source": [
        "# You can still access the raw response from the AI provider to get more information\n",
        "result = ai.ask(\"What is the capital of France?\", raw_response=True)\n",
        "\n",
        "print(f\"Processed response:\")\n",
        "print(result.content, \"\\n\")\n",
        "print(f\"Raw response:\")\n",
        "print(result.raw_response)"
      ]
    },
    {
      "cell_type": "code",
      "execution_count": 10,
      "metadata": {},
      "outputs": [
        {
          "name": "stdout",
          "output_type": "stream",
          "text": [
            "The capital of Italy is Rome. \n",
            "\n",
            "{'content': 'The capital of Italy is Rome.', 'refusal': None, 'role': 'assistant', 'annotations': [], 'audio': None, 'function_call': None, 'tool_calls': None}\n"
          ]
        }
      ],
      "source": [
        "# If you want to maintain a conversation, you can also\n",
        "# pass a list of messages as you would to AI APIs.\n",
        "messages = [\n",
        "    {\"role\": \"system\", \"content\": \"You are a helpful assistant.\"},\n",
        "    {\"role\": \"user\", \"content\": \"What's the capital of France?\"},\n",
        "    {\"role\": \"assistant\", \"content\": \"The capital of France is Paris.\"},\n",
        "    {\"role\": \"user\", \"content\": \"And Italy?\"}\n",
        "]\n",
        "response = ai.ask(messages=messages)\n",
        "print(response, \"\\n\")\n",
        "\n",
        "# You might want to pass raw_response=True to get the full response object and construct the next message list\n",
        "response = ai.ask(messages=messages, raw_response=True)\n",
        "print(response.raw_response.choices[0].message.dict())"
      ]
    },
    {
      "cell_type": "markdown",
      "metadata": {},
      "source": [
        "# Pre-built functions for common tasks"
      ]
    },
    {
      "cell_type": "code",
      "execution_count": 6,
      "metadata": {},
      "outputs": [
        {
          "name": "stdout",
          "output_type": "stream",
          "text": [
            "Positive\n"
          ]
        }
      ],
      "source": [
        "# Classification\n",
        "sentiment = ai.classify(\"This product is amazing!\", [\"positive\", \"negative\", \"neutral\"])\n",
        "print(sentiment)"
      ]
    },
    {
      "cell_type": "code",
      "execution_count": 7,
      "metadata": {},
      "outputs": [
        {
          "name": "stdout",
          "output_type": "stream",
          "text": [
            "{'people': ['Steve Jobs'], 'organizations': ['Apple'], 'dates': ['1976'], 'locations': ['Cupertino', 'California']}\n"
          ]
        }
      ],
      "source": [
        "# Entity extraction\n",
        "entities = ai.extract(\"Apple was founded by Steve Jobs in 1976 and is headquartered in Cupertino, California\", [\"people\", \"organizations\", \"dates\", \"locations\"])\n",
        "print(entities)"
      ]
    },
    {
      "cell_type": "code",
      "execution_count": 8,
      "metadata": {},
      "outputs": [
        {
          "name": "stdout",
          "output_type": "stream",
          "text": [
            "Python is a high-level, general-purpose programming language known for its emphasis on code readability through significant indentation. It is dynamically-typed, garbage-collected, and supports multiple programming paradigms such as structured, object-oriented, and functional programming. Python is often referred to as a \"batteries included\" language because of its extensive standard library.\n"
          ]
        }
      ],
      "source": [
        "# Summarization\n",
        "long_text = \"\"\"\n",
        "Python is a high-level, general-purpose programming language. Its design philosophy emphasizes \n",
        "code readability with the use of significant indentation. Python is dynamically-typed and \n",
        "garbage-collected. It supports multiple programming paradigms, including structured, \n",
        "object-oriented and functional programming. It is often described as a \"batteries included\" \n",
        "language due to its comprehensive standard library.\n",
        "\"\"\"\n",
        "summary = ai.summarize(long_text)\n",
        "print(summary)"
      ]
    },
    {
      "cell_type": "code",
      "execution_count": 9,
      "metadata": {},
      "outputs": [
        {
          "name": "stdout",
          "output_type": "stream",
          "text": [
            "Hola mundo\n"
          ]
        }
      ],
      "source": [
        "# Translation\n",
        "translated = ai.translate(\"Hello world\", to=\"spanish\")\n",
        "print(translated)"
      ]
    },
    {
      "cell_type": "code",
      "execution_count": 10,
      "metadata": {},
      "outputs": [
        {
          "data": {
            "text/html": [
              "\n",
              "                <audio  controls=\"controls\" >\n",
              "                    <source src=\"data:audio/mpeg;base64,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\" type=\"audio/mpeg\" />\n",
              "                    Your browser does not support the audio element.\n",
              "                </audio>\n",
              "              "
            ],
            "text/plain": [
              "<IPython.lib.display.Audio object>"
            ]
          },
          "execution_count": 10,
          "metadata": {},
          "output_type": "execute_result"
        }
      ],
      "source": [
        "# Text to Speech\n",
        "audio = ai.text_to_speech(\"This is such a cool library!\", instructions=\"Speak in a whisper\")\n",
        "\n",
        "# store audio in a file and play it\n",
        "with open(\"audio.mp3\", \"wb\") as f:\n",
        "    f.write(audio)\n",
        "\n",
        "from IPython.display import Audio\n",
        "Audio(\"audio.mp3\")\n"
      ]
    },
    {
      "cell_type": "code",
      "execution_count": 11,
      "metadata": {},
      "outputs": [
        {
          "name": "stdout",
          "output_type": "stream",
          "text": [
            "{'text': 'This is such a cool library.', 'logprobs': None}\n"
          ]
        }
      ],
      "source": [
        "# Speech to Text\n",
        "audio = ai.speech_to_text(\"audio.mp3\")\n",
        "print(audio)"
      ]
    },
    {
      "cell_type": "markdown",
      "metadata": {},
      "source": [
        "# Helper functions"
      ]
    },
    {
      "cell_type": "code",
      "execution_count": 12,
      "metadata": {},
      "outputs": [
        {
          "name": "stdout",
          "output_type": "stream",
          "text": [
            "Available providers: ['openai', 'anthropic', 'mock']\n",
            "Current provider: openai\n",
            "Current model: gpt-4o\n",
            "Now using model: gpt-4o-mini\n"
          ]
        }
      ],
      "source": [
        "print(\"Available providers:\", ai.get_available_providers())\n",
        "print(\"Current provider:\", ai.get_active_provider())\n",
        "print(\"Current model:\", ai.get_model())\n",
        "\n",
        "# Change default model\n",
        "ai.set_model(\"gpt-4o-mini\")\n",
        "print(\"Now using model:\", ai.get_model())"
      ]
    },
    {
      "cell_type": "code",
      "execution_count": 14,
      "metadata": {},
      "outputs": [
        {
          "name": "stdout",
          "output_type": "stream",
          "text": [
            "Active provider: anthropic\n",
            "Current model: claude-3-5-haiku-latest\n"
          ]
        }
      ],
      "source": [
        "# Change default provider globally\n",
        "ai.use(\"anthropic\")\n",
        "print(\"Active provider:\", ai.get_active_provider())\n",
        "print(\"Current model:\", ai.get_model())"
      ]
    }
  ],
  "metadata": {
    "kernelspec": {
      "display_name": "myenv",
      "language": "python",
      "name": "python3"
    },
    "language_info": {
      "codemirror_mode": {
        "name": "ipython",
        "version": 3
      },
      "file_extension": ".py",
      "mimetype": "text/x-python",
      "name": "python",
      "nbconvert_exporter": "python",
      "pygments_lexer": "ipython3",
      "version": "3.9.13"
    }
  },
  "nbformat": 4,
  "nbformat_minor": 2
}
